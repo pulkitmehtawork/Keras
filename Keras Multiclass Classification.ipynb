{
 "cells": [
  {
   "cell_type": "markdown",
   "metadata": {},
   "source": [
    "### Load reuters dataset"
   ]
  },
  {
   "cell_type": "code",
   "execution_count": 2,
   "metadata": {},
   "outputs": [],
   "source": [
    "from keras.datasets import reuters"
   ]
  },
  {
   "cell_type": "code",
   "execution_count": 3,
   "metadata": {},
   "outputs": [
    {
     "name": "stdout",
     "output_type": "stream",
     "text": [
      "Downloading data from https://s3.amazonaws.com/text-datasets/reuters.npz\n",
      "2113536/2110848 [==============================] - 4s 2us/step\n"
     ]
    }
   ],
   "source": [
    "(train_data,train_label),(test_data,test_label) = reuters.load_data(num_words=10000)"
   ]
  },
  {
   "cell_type": "code",
   "execution_count": 4,
   "metadata": {},
   "outputs": [
    {
     "data": {
      "text/plain": [
       "((8982,), (2246,))"
      ]
     },
     "execution_count": 4,
     "metadata": {},
     "output_type": "execute_result"
    }
   ],
   "source": [
    "train_data.shape,test_data.shape"
   ]
  },
  {
   "cell_type": "markdown",
   "metadata": {},
   "source": [
    "### Preprocessing data"
   ]
  },
  {
   "cell_type": "code",
   "execution_count": 6,
   "metadata": {},
   "outputs": [],
   "source": [
    "import numpy as np \n",
    "\n",
    "\n",
    "def feature_vectorize(sequences,dimension =10000):\n",
    "    result = np.zeros((sequences.shape[0],dimension))\n",
    "    for i,seq in enumerate(sequences):\n",
    "        result[i,seq]=1\n",
    "    return result\n",
    "\n",
    "x_train = feature_vectorize(train_data)\n",
    "x_test = feature_vectorize(test_data)\n",
    "\n",
    "y_train = np.array(train_label).astype('float32')\n",
    "y_test = np.array(test_label).astype('float32')\n",
    "\n",
    "# set aside 1000 rows for validation\n",
    "\n",
    "x_val = x_train[:1000]\n",
    "y_val = y_train[:1000]\n",
    "\n",
    "x_partial_train = x_train[1000:]\n",
    "y_partial_train = y_train[1000:]\n",
    "\n",
    "\n",
    "\n",
    "\n",
    "\n",
    "\n",
    "\n",
    "    \n",
    "\n"
   ]
  },
  {
   "cell_type": "markdown",
   "metadata": {},
   "source": [
    "### Model architecture"
   ]
  },
  {
   "cell_type": "code",
   "execution_count": 8,
   "metadata": {},
   "outputs": [],
   "source": [
    "from keras import models\n",
    "from keras import layers\n",
    "\n",
    "\n",
    "model = models.Sequential()\n",
    "model.add(layers.Dense(64,activation='relu',input_shape = (10000,)))\n",
    "model.add(layers.Dense(64,activation='relu'))\n",
    "model.add(layers.Dense(46,activation='sigmoid'))\n",
    "\n",
    "\n"
   ]
  },
  {
   "cell_type": "code",
   "execution_count": 10,
   "metadata": {},
   "outputs": [],
   "source": [
    "model.compile(optimizer='rmsprop',loss='sparse_categorical_crossentropy',metrics=['accuracy'])"
   ]
  },
  {
   "cell_type": "code",
   "execution_count": 12,
   "metadata": {},
   "outputs": [
    {
     "name": "stdout",
     "output_type": "stream",
     "text": [
      "Train on 7982 samples, validate on 1000 samples\n",
      "Epoch 1/20\n",
      "7982/7982 [==============================] - 1s 111us/step - loss: 0.1180 - accuracy: 0.9573 - val_loss: 1.0006 - val_accuracy: 0.8030\n",
      "Epoch 2/20\n",
      "7982/7982 [==============================] - 1s 122us/step - loss: 0.1125 - accuracy: 0.9575 - val_loss: 1.0257 - val_accuracy: 0.7970\n",
      "Epoch 3/20\n",
      "7982/7982 [==============================] - 1s 155us/step - loss: 0.1075 - accuracy: 0.9592 - val_loss: 1.0040 - val_accuracy: 0.8090\n",
      "Epoch 4/20\n",
      "7982/7982 [==============================] - 1s 161us/step - loss: 0.1054 - accuracy: 0.9582 - val_loss: 1.0269 - val_accuracy: 0.8060\n",
      "Epoch 5/20\n",
      "7982/7982 [==============================] - 1s 126us/step - loss: 0.1016 - accuracy: 0.9574 - val_loss: 1.0430 - val_accuracy: 0.8050\n",
      "Epoch 6/20\n",
      "7982/7982 [==============================] - 1s 117us/step - loss: 0.1045 - accuracy: 0.9577 - val_loss: 1.0159 - val_accuracy: 0.8140\n",
      "Epoch 7/20\n",
      "7982/7982 [==============================] - 1s 119us/step - loss: 0.0994 - accuracy: 0.9587 - val_loss: 1.0802 - val_accuracy: 0.7940\n",
      "Epoch 8/20\n",
      "7982/7982 [==============================] - 1s 122us/step - loss: 0.0971 - accuracy: 0.9582 - val_loss: 1.0944 - val_accuracy: 0.7990\n",
      "Epoch 9/20\n",
      "7982/7982 [==============================] - 1s 123us/step - loss: 0.0936 - accuracy: 0.9579 - val_loss: 1.1167 - val_accuracy: 0.7980\n",
      "Epoch 10/20\n",
      "7982/7982 [==============================] - 1s 115us/step - loss: 0.0892 - accuracy: 0.9592 - val_loss: 1.1326 - val_accuracy: 0.7870\n",
      "Epoch 11/20\n",
      "7982/7982 [==============================] - 1s 120us/step - loss: 0.0912 - accuracy: 0.9609 - val_loss: 1.1098 - val_accuracy: 0.8000\n",
      "Epoch 12/20\n",
      "7982/7982 [==============================] - 1s 126us/step - loss: 0.0908 - accuracy: 0.9584 - val_loss: 1.1794 - val_accuracy: 0.7800\n",
      "Epoch 13/20\n",
      "7982/7982 [==============================] - 1s 126us/step - loss: 0.0827 - accuracy: 0.9595 - val_loss: 1.1128 - val_accuracy: 0.8050\n",
      "Epoch 14/20\n",
      "7982/7982 [==============================] - 1s 126us/step - loss: 0.0829 - accuracy: 0.9603 - val_loss: 1.1534 - val_accuracy: 0.8000\n",
      "Epoch 15/20\n",
      "7982/7982 [==============================] - 1s 143us/step - loss: 0.0800 - accuracy: 0.9589 - val_loss: 1.1708 - val_accuracy: 0.7930\n",
      "Epoch 16/20\n",
      "7982/7982 [==============================] - 1s 134us/step - loss: 0.0795 - accuracy: 0.9604 - val_loss: 1.1722 - val_accuracy: 0.8010\n",
      "Epoch 17/20\n",
      "7982/7982 [==============================] - 1s 129us/step - loss: 0.0769 - accuracy: 0.9612 - val_loss: 1.2423 - val_accuracy: 0.7750\n",
      "Epoch 18/20\n",
      "7982/7982 [==============================] - 1s 139us/step - loss: 0.0750 - accuracy: 0.9615 - val_loss: 1.1980 - val_accuracy: 0.7890\n",
      "Epoch 19/20\n",
      "7982/7982 [==============================] - 1s 171us/step - loss: 0.0743 - accuracy: 0.9615 - val_loss: 1.1946 - val_accuracy: 0.7970\n",
      "Epoch 20/20\n",
      "7982/7982 [==============================] - 1s 183us/step - loss: 0.0736 - accuracy: 0.9622 - val_loss: 1.1757 - val_accuracy: 0.7980\n"
     ]
    }
   ],
   "source": [
    "history = model.fit(x_partial_train,y_partial_train,epochs=20,batch_size = 512,validation_data=(x_val,y_val))"
   ]
  },
  {
   "cell_type": "markdown",
   "metadata": {},
   "source": [
    "### Plot loss , accuracy"
   ]
  },
  {
   "cell_type": "code",
   "execution_count": 13,
   "metadata": {},
   "outputs": [
    {
     "data": {
      "text/plain": [
       "dict_keys(['val_loss', 'val_accuracy', 'loss', 'accuracy'])"
      ]
     },
     "execution_count": 13,
     "metadata": {},
     "output_type": "execute_result"
    }
   ],
   "source": [
    "hist_dict = history.history\n",
    "hist_dict.keys()"
   ]
  },
  {
   "cell_type": "code",
   "execution_count": 17,
   "metadata": {},
   "outputs": [
    {
     "data": {
      "image/png": "[encoded data removed]",
      "text/plain": [
       "<Figure size 432x288 with 1 Axes>"
      ]
     },
     "metadata": {
      "needs_background": "light"
     },
     "output_type": "display_data"
    }
   ],
   "source": [
    "import matplotlib.pyplot as plt\n",
    "\n",
    "epochs = range(1,len(hist_dict['loss'])+1)\n",
    "trn_loss = hist_dict['loss']\n",
    "val_loss = hist_dict['val_loss']\n",
    "\n",
    "plt.plot(epochs,trn_loss,'bo',label='Training Loss')\n",
    "plt.plot(epochs,val_loss,'b',label='Validation Loss')\n",
    "plt.title('Training vs validation loss')\n",
    "plt.xlabel('Epochs')\n",
    "plt.ylabel('Loss')\n",
    "plt.title('Training vs validation loss')\n",
    "plt.legend()\n",
    "plt.show()"
   ]
  },
  {
   "cell_type": "code",
   "execution_count": 19,
   "metadata": {},
   "outputs": [
    {
     "data": {
      "image/png": "[encoded data removed]",
      "text/plain": [
       "<Figure size 432x288 with 1 Axes>"
      ]
     },
     "metadata": {
      "needs_background": "light"
     },
     "output_type": "display_data"
    }
   ],
   "source": [
    "#epochs = range(1,len(hist_dict['loss'])+1)\n",
    "plt.clf()\n",
    "trn_acc = hist_dict['accuracy']\n",
    "val_acc = hist_dict['val_accuracy']\n",
    "\n",
    "plt.plot(epochs,trn_acc,'bo',label='Training Accuracy')\n",
    "plt.plot(epochs,val_acc,'b',label='Validation Accuracy')\n",
    "plt.title('Training vs validation Accuracy')\n",
    "plt.xlabel('Epochs')\n",
    "plt.ylabel('Accuracy')\n",
    "#plt.title('Training vs validation loss')\n",
    "plt.legend()\n",
    "plt.show()"
   ]
  },
  {
   "cell_type": "code",
   "execution_count": 22,
   "metadata": {},
   "outputs": [
    {
     "name": "stdout",
     "output_type": "stream",
     "text": [
      "Train on 7982 samples, validate on 1000 samples\n",
      "Epoch 1/3\n",
      "7982/7982 [==============================] - 2s 206us/step - loss: 0.0646 - accuracy: 0.9625 - val_loss: 1.2846 - val_accuracy: 0.7840\n",
      "Epoch 2/3\n",
      "7982/7982 [==============================] - 1s 135us/step - loss: 0.0638 - accuracy: 0.9620 - val_loss: 1.2762 - val_accuracy: 0.7910\n",
      "Epoch 3/3\n",
      "7982/7982 [==============================] - 1s 141us/step - loss: 0.0613 - accuracy: 0.9624 - val_loss: 1.2943 - val_accuracy: 0.7890\n"
     ]
    },
    {
     "data": {
      "text/plain": [
       "<keras.callbacks.callbacks.History at 0x7fa0ecae7f10>"
      ]
     },
     "execution_count": 22,
     "metadata": {},
     "output_type": "execute_result"
    }
   ],
   "source": [
    "# it seems from above that 3 epochs are optimum\n",
    "\n",
    "model.fit(x_partial_train,y_partial_train,epochs=3,batch_size = 512,validation_data=(x_val,y_val))"
   ]
  },
  {
   "cell_type": "code",
   "execution_count": 23,
   "metadata": {},
   "outputs": [
    {
     "name": "stdout",
     "output_type": "stream",
     "text": [
      "2246/2246 [==============================] - 0s 147us/step\n"
     ]
    },
    {
     "data": {
      "text/plain": [
       "[1.5605138331147463, 0.7684773206710815]"
      ]
     },
     "execution_count": 23,
     "metadata": {},
     "output_type": "execute_result"
    }
   ],
   "source": [
    "model.evaluate(x_test,y_test)"
   ]
  },
  {
   "cell_type": "code",
   "execution_count": null,
   "metadata": {},
   "outputs": [],
   "source": []
  }
 ],
 "metadata": {
  "kernelspec": {
   "display_name": "Python 3",
   "language": "python",
   "name": "python3"
  },
  "language_info": {
   "codemirror_mode": {
    "name": "ipython",
    "version": 3
   },
   "file_extension": ".py",
   "mimetype": "text/x-python",
   "name": "python",
   "nbconvert_exporter": "python",
   "pygments_lexer": "ipython3",
   "version": "3.7.6"
  }
 },
 "nbformat": 4,
 "nbformat_minor": 4
}
