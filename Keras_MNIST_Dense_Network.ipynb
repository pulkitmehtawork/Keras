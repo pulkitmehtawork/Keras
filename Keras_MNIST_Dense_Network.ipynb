{
  "nbformat": 4,
  "nbformat_minor": 0,
  "metadata": {
    "colab": {
      "name": "Keras-MNIST Dense Network.ipynb",
      "provenance": [],
      "authorship_tag": "ABX9TyNt/JCQY0ke24cdQQU75fQV",
      "include_colab_link": true
    },
    "kernelspec": {
      "name": "python3",
      "display_name": "Python 3"
    },
    "accelerator": "GPU"
  },
  "cells": [
    {
      "cell_type": "markdown",
      "metadata": {
        "id": "view-in-github",
        "colab_type": "text"
      },
      "source": [
        "<a href=\"https://colab.research.google.com/github/pulkitmehtawork/Keras/blob/master/Keras_MNIST_Dense_Network.ipynb\" target=\"_parent\"><img src=\"https://colab.research.google.com/assets/colab-badge.svg\" alt=\"Open In Colab\"/></a>"
      ]
    },
    {
      "cell_type": "markdown",
      "metadata": {
        "id": "kUWIQ_BcDHCp",
        "colab_type": "text"
      },
      "source": [
        "Loading MNIST Data"
      ]
    },
    {
      "cell_type": "code",
      "metadata": {
        "id": "6mwPOicGDK9e",
        "colab_type": "code",
        "colab": {}
      },
      "source": [
        "from keras.datasets import mnist  "
      ],
      "execution_count": null,
      "outputs": []
    },
    {
      "cell_type": "code",
      "metadata": {
        "id": "YVTgysZJDbSr",
        "colab_type": "code",
        "colab": {}
      },
      "source": [
        "(train_images,train_labels),(test_images,test_labels) = mnist.load_data()"
      ],
      "execution_count": null,
      "outputs": []
    },
    {
      "cell_type": "code",
      "metadata": {
        "id": "CZY7bXjFDlCz",
        "colab_type": "code",
        "colab": {
          "base_uri": "https://localhost:8080/",
          "height": 34
        },
        "outputId": "63398838-745e-4915-94df-6f77a6532097"
      },
      "source": [
        "train_images.shape"
      ],
      "execution_count": null,
      "outputs": [
        {
          "output_type": "execute_result",
          "data": {
            "text/plain": [
              "(60000, 28, 28)"
            ]
          },
          "metadata": {
            "tags": []
          },
          "execution_count": 23
        }
      ]
    },
    {
      "cell_type": "code",
      "metadata": {
        "id": "CY3fNE7KDphy",
        "colab_type": "code",
        "colab": {
          "base_uri": "https://localhost:8080/",
          "height": 34
        },
        "outputId": "2b97b2c1-85dd-4e7a-a2c9-d4ea8bc6f9d8"
      },
      "source": [
        "train_labels.shape"
      ],
      "execution_count": null,
      "outputs": [
        {
          "output_type": "execute_result",
          "data": {
            "text/plain": [
              "(60000,)"
            ]
          },
          "metadata": {
            "tags": []
          },
          "execution_count": 24
        }
      ]
    },
    {
      "cell_type": "code",
      "metadata": {
        "id": "97L_K0-vDrzC",
        "colab_type": "code",
        "colab": {
          "base_uri": "https://localhost:8080/",
          "height": 34
        },
        "outputId": "13032606-50b0-41f6-9ef9-cfe8bcb2bdd8"
      },
      "source": [
        "test_images.shape"
      ],
      "execution_count": null,
      "outputs": [
        {
          "output_type": "execute_result",
          "data": {
            "text/plain": [
              "(10000, 28, 28)"
            ]
          },
          "metadata": {
            "tags": []
          },
          "execution_count": 25
        }
      ]
    },
    {
      "cell_type": "code",
      "metadata": {
        "id": "hTCL8hRPDuqD",
        "colab_type": "code",
        "colab": {
          "base_uri": "https://localhost:8080/",
          "height": 34
        },
        "outputId": "6569ed77-6c47-4db1-9983-1ea85bbe1898"
      },
      "source": [
        "test_labels.shape"
      ],
      "execution_count": null,
      "outputs": [
        {
          "output_type": "execute_result",
          "data": {
            "text/plain": [
              "(10000,)"
            ]
          },
          "metadata": {
            "tags": []
          },
          "execution_count": 26
        }
      ]
    },
    {
      "cell_type": "markdown",
      "metadata": {
        "id": "07_Ly_AKD2NY",
        "colab_type": "text"
      },
      "source": [
        "Network architecture"
      ]
    },
    {
      "cell_type": "code",
      "metadata": {
        "id": "Qkd_mQfWDzL6",
        "colab_type": "code",
        "colab": {}
      },
      "source": [
        "from keras import models\n",
        "from keras import layers\n",
        "\n",
        "\n",
        "network = models.Sequential()\n",
        "network.add(layers.Dense(512,activation = 'relu',input_shape = (28*28,)))\n",
        "network.add(layers.Dense(10,activation = 'softmax'))\n",
        "\n"
      ],
      "execution_count": null,
      "outputs": []
    },
    {
      "cell_type": "markdown",
      "metadata": {
        "id": "I0mFjhIPFtc9",
        "colab_type": "text"
      },
      "source": [
        "Compiling Model"
      ]
    },
    {
      "cell_type": "code",
      "metadata": {
        "id": "okXm3cvvFfAR",
        "colab_type": "code",
        "colab": {}
      },
      "source": [
        "network.compile(optimizer='rmsprop',loss='categorical_crossentropy',metrics=['accuracy'])"
      ],
      "execution_count": null,
      "outputs": []
    },
    {
      "cell_type": "markdown",
      "metadata": {
        "id": "Npl-Gt63GDbq",
        "colab_type": "text"
      },
      "source": [
        "preparing image data, text data "
      ]
    },
    {
      "cell_type": "code",
      "metadata": {
        "id": "1dY6iQxFF4YS",
        "colab_type": "code",
        "colab": {}
      },
      "source": [
        "train_images = train_images.reshape((60000, 28 * 28))\n",
        "test_images = test_images.reshape((10000, 28 * 28))\n",
        "train_images = train_images.astype('float32')/255\n",
        "test_images = test_images.astype('float32')/255"
      ],
      "execution_count": null,
      "outputs": []
    },
    {
      "cell_type": "code",
      "metadata": {
        "id": "HO5ODXwwGRpn",
        "colab_type": "code",
        "colab": {}
      },
      "source": [
        "from keras.utils import to_categorical\n",
        "\n",
        "train_labels = to_categorical(train_labels)\n",
        "test_labels = to_categorical(test_labels)\n"
      ],
      "execution_count": null,
      "outputs": []
    },
    {
      "cell_type": "markdown",
      "metadata": {
        "id": "8RIJif5oGhfV",
        "colab_type": "text"
      },
      "source": [
        "Train model"
      ]
    },
    {
      "cell_type": "code",
      "metadata": {
        "id": "Ii3xMrGZGcsy",
        "colab_type": "code",
        "colab": {
          "base_uri": "https://localhost:8080/",
          "height": 208
        },
        "outputId": "10beeaf1-9c72-4162-c422-1136c3d26ef3"
      },
      "source": [
        "network.fit(train_images,train_labels,epochs=5,batch_size=128)"
      ],
      "execution_count": null,
      "outputs": [
        {
          "output_type": "stream",
          "text": [
            "Epoch 1/5\n",
            "60000/60000 [==============================] - 3s 50us/step - loss: 0.2521 - accuracy: 0.9281\n",
            "Epoch 2/5\n",
            "60000/60000 [==============================] - 1s 20us/step - loss: 0.1007 - accuracy: 0.9699\n",
            "Epoch 3/5\n",
            "60000/60000 [==============================] - 1s 21us/step - loss: 0.0671 - accuracy: 0.9801\n",
            "Epoch 4/5\n",
            "60000/60000 [==============================] - 1s 21us/step - loss: 0.0484 - accuracy: 0.9854\n",
            "Epoch 5/5\n",
            "60000/60000 [==============================] - 1s 20us/step - loss: 0.0363 - accuracy: 0.9891\n"
          ],
          "name": "stdout"
        },
        {
          "output_type": "execute_result",
          "data": {
            "text/plain": [
              "<keras.callbacks.callbacks.History at 0x7f7d25e47cc0>"
            ]
          },
          "metadata": {
            "tags": []
          },
          "execution_count": 31
        }
      ]
    },
    {
      "cell_type": "code",
      "metadata": {
        "id": "f2AWR_KWGqmV",
        "colab_type": "code",
        "colab": {
          "base_uri": "https://localhost:8080/",
          "height": 34
        },
        "outputId": "a33d265f-315f-4fe6-c5e0-c403c193cc1e"
      },
      "source": [
        "  test_loss,test_accuracy = network.evaluate(test_images,test_labels)"
      ],
      "execution_count": null,
      "outputs": [
        {
          "output_type": "stream",
          "text": [
            "10000/10000 [==============================] - 1s 54us/step\n"
          ],
          "name": "stdout"
        }
      ]
    },
    {
      "cell_type": "code",
      "metadata": {
        "id": "Mdv0Wxn7HY6O",
        "colab_type": "code",
        "colab": {
          "base_uri": "https://localhost:8080/",
          "height": 34
        },
        "outputId": "03d3001b-a6ab-4bb7-cf53-94bf111f5485"
      },
      "source": [
        "print(test_accuracy)"
      ],
      "execution_count": null,
      "outputs": [
        {
          "output_type": "stream",
          "text": [
            "0.9794999957084656\n"
          ],
          "name": "stdout"
        }
      ]
    },
    {
      "cell_type": "code",
      "metadata": {
        "id": "8k1cfFlFHa9U",
        "colab_type": "code",
        "colab": {}
      },
      "source": [
        ""
      ],
      "execution_count": null,
      "outputs": []
    }
  ]
}