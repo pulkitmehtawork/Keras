{
  "nbformat": 4,
  "nbformat_minor": 0,
  "metadata": {
    "colab": {
      "name": "Keras IMDB Binary Classification.ipynb",
      "provenance": [],
      "authorship_tag": "ABX9TyNzChqNcg2zGVGo6vWUw6MD",
      "include_colab_link": true
    },
    "kernelspec": {
      "name": "python3",
      "display_name": "Python 3"
    }
  },
  "cells": [
    {
      "cell_type": "markdown",
      "metadata": {
        "id": "view-in-github",
        "colab_type": "text"
      },
      "source": [
        "<a href=\"https://colab.research.google.com/github/pulkitmehtawork/Keras/blob/master/Keras_IMDB_Binary_Classification.ipynb\" target=\"_parent\"><img src=\"https://colab.research.google.com/assets/colab-badge.svg\" alt=\"Open In Colab\"/></a>"
      ]
    },
    {
      "cell_type": "markdown",
      "metadata": {
        "id": "_HaAUhi-QrC4",
        "colab_type": "text"
      },
      "source": [
        "### Loading data "
      ]
    },
    {
      "cell_type": "code",
      "metadata": {
        "id": "iFUYA8w1QuPt",
        "colab_type": "code",
        "colab": {
          "base_uri": "https://localhost:8080/",
          "height": 68
        },
        "outputId": "8c552133-06d8-4726-cc3d-c5b925ab57bc"
      },
      "source": [
        "from keras.datasets import imdb\n",
        "(train_data,train_labels) , (test_data,test_labels) = imdb.load_data(num_words = 10000)"
      ],
      "execution_count": 3,
      "outputs": [
        {
          "output_type": "stream",
          "text": [
            "Using TensorFlow backend.\n"
          ],
          "name": "stderr"
        },
        {
          "output_type": "stream",
          "text": [
            "Downloading data from https://s3.amazonaws.com/text-datasets/imdb.npz\n",
            "17465344/17464789 [==============================] - 0s 0us/step\n"
          ],
          "name": "stdout"
        }
      ]
    },
    {
      "cell_type": "code",
      "metadata": {
        "id": "biNTO78wQ3hD",
        "colab_type": "code",
        "colab": {
          "base_uri": "https://localhost:8080/",
          "height": 34
        },
        "outputId": "2865fda3-0d38-4268-efcd-04cdeb8f6c58"
      },
      "source": [
        "train_data.shape, test_data.shape"
      ],
      "execution_count": 4,
      "outputs": [
        {
          "output_type": "execute_result",
          "data": {
            "text/plain": [
              "((25000,), (25000,))"
            ]
          },
          "metadata": {
            "tags": []
          },
          "execution_count": 4
        }
      ]
    },
    {
      "cell_type": "markdown",
      "metadata": {
        "id": "kSffqoKzWKed",
        "colab_type": "text"
      },
      "source": [
        "### Encoding integer sequence into a binary matrix"
      ]
    },
    {
      "cell_type": "code",
      "metadata": {
        "id": "K01M7GEySJGo",
        "colab_type": "code",
        "colab": {}
      },
      "source": [
        "import numpy as np\n",
        "\n",
        "def vectorize_sequence(sequences,dimesions=10000):\n",
        "  result = np.zeros((len(sequences),dimesions))\n",
        "  for i,sequence in enumerate(sequences):\n",
        "    result[i,sequence] = 1\n",
        "  return result\n",
        "\n",
        "\n",
        "x_train = vectorize_sequence(train_data)\n",
        "x_test = vectorize_sequence(test_data)\n",
        "\n",
        "\n",
        "\n"
      ],
      "execution_count": 6,
      "outputs": []
    },
    {
      "cell_type": "code",
      "metadata": {
        "id": "kaB1br59X0Oi",
        "colab_type": "code",
        "colab": {
          "base_uri": "https://localhost:8080/",
          "height": 34
        },
        "outputId": "894700c6-154a-4daf-c7fd-1b85254e1cfe"
      },
      "source": [
        "x_train.shape,x_test.shape"
      ],
      "execution_count": 7,
      "outputs": [
        {
          "output_type": "execute_result",
          "data": {
            "text/plain": [
              "((25000, 10000), (25000, 10000))"
            ]
          },
          "metadata": {
            "tags": []
          },
          "execution_count": 7
        }
      ]
    },
    {
      "cell_type": "code",
      "metadata": {
        "id": "8DEsiUAiYFKI",
        "colab_type": "code",
        "colab": {}
      },
      "source": [
        "y_train = np.array(train_labels).astype('float32')\n",
        "y_test = np.array(test_labels).astype('float32')"
      ],
      "execution_count": 8,
      "outputs": []
    },
    {
      "cell_type": "code",
      "metadata": {
        "id": "qCXzm7ldZeF6",
        "colab_type": "code",
        "colab": {
          "base_uri": "https://localhost:8080/",
          "height": 34
        },
        "outputId": "fc395043-527f-4ff0-bbcb-942ed7a33736"
      },
      "source": [
        "y_train.shape , y_test.shape"
      ],
      "execution_count": 9,
      "outputs": [
        {
          "output_type": "execute_result",
          "data": {
            "text/plain": [
              "((25000,), (25000,))"
            ]
          },
          "metadata": {
            "tags": []
          },
          "execution_count": 9
        }
      ]
    },
    {
      "cell_type": "markdown",
      "metadata": {
        "id": "msn2sE9cgVv2",
        "colab_type": "text"
      },
      "source": [
        "### Model Architecture"
      ]
    },
    {
      "cell_type": "code",
      "metadata": {
        "id": "_knXdgYNf520",
        "colab_type": "code",
        "colab": {}
      },
      "source": [
        "from keras import models \n",
        "from keras import layers\n",
        "\n",
        "model = models.Sequential()\n",
        "model.add(layers.Dense(16,activation='relu',input_shape = (10000,)))\n",
        "model.add(layers.Dense(16,activation='relu' ))\n",
        "model.add(layers.Dense(1,activation='sigmoid'))\n"
      ],
      "execution_count": 16,
      "outputs": []
    },
    {
      "cell_type": "code",
      "metadata": {
        "id": "WSVY0vfQhMBp",
        "colab_type": "code",
        "colab": {}
      },
      "source": [
        "model.compile(optimizer='rmsprop',loss='binary_crossentropy',metrics = ['accuracy'])"
      ],
      "execution_count": 17,
      "outputs": []
    },
    {
      "cell_type": "code",
      "metadata": {
        "id": "ngDtSzx4h1PX",
        "colab_type": "code",
        "colab": {}
      },
      "source": [
        "x_val = x_train[:10000]\n",
        "x_partial_train = x_train[10000:]\n",
        "y_val = y_train[:10000]\n",
        "y_partial_train = y_train[10000:]\n"
      ],
      "execution_count": 18,
      "outputs": []
    },
    {
      "cell_type": "code",
      "metadata": {
        "id": "l7BSOZQ3idDE",
        "colab_type": "code",
        "colab": {
          "base_uri": "https://localhost:8080/",
          "height": 714
        },
        "outputId": "a6bc2210-acf4-4301-fc2f-cbc6d768a29a"
      },
      "source": [
        "history = model.fit(x_partial_train,y_partial_train,epochs=20,batch_size =512,validation_data = (x_val,y_val))"
      ],
      "execution_count": 19,
      "outputs": [
        {
          "output_type": "stream",
          "text": [
            "Train on 15000 samples, validate on 10000 samples\n",
            "Epoch 1/20\n",
            "15000/15000 [==============================] - 4s 244us/step - loss: 0.4914 - accuracy: 0.7861 - val_loss: 0.4037 - val_accuracy: 0.8332\n",
            "Epoch 2/20\n",
            "15000/15000 [==============================] - 1s 97us/step - loss: 0.2908 - accuracy: 0.9041 - val_loss: 0.2967 - val_accuracy: 0.8885\n",
            "Epoch 3/20\n",
            "15000/15000 [==============================] - 1s 97us/step - loss: 0.2150 - accuracy: 0.9310 - val_loss: 0.2780 - val_accuracy: 0.8914\n",
            "Epoch 4/20\n",
            "15000/15000 [==============================] - 1s 96us/step - loss: 0.1680 - accuracy: 0.9463 - val_loss: 0.3047 - val_accuracy: 0.8790\n",
            "Epoch 5/20\n",
            "15000/15000 [==============================] - 1s 97us/step - loss: 0.1381 - accuracy: 0.9559 - val_loss: 0.3073 - val_accuracy: 0.8829\n",
            "Epoch 6/20\n",
            "15000/15000 [==============================] - 1s 97us/step - loss: 0.1131 - accuracy: 0.9639 - val_loss: 0.3010 - val_accuracy: 0.8866\n",
            "Epoch 7/20\n",
            "15000/15000 [==============================] - 1s 98us/step - loss: 0.0932 - accuracy: 0.9725 - val_loss: 0.3218 - val_accuracy: 0.8816\n",
            "Epoch 8/20\n",
            "15000/15000 [==============================] - 1s 96us/step - loss: 0.0773 - accuracy: 0.9779 - val_loss: 0.4932 - val_accuracy: 0.8455\n",
            "Epoch 9/20\n",
            "15000/15000 [==============================] - 1s 96us/step - loss: 0.0650 - accuracy: 0.9821 - val_loss: 0.3685 - val_accuracy: 0.8783\n",
            "Epoch 10/20\n",
            "15000/15000 [==============================] - 1s 96us/step - loss: 0.0531 - accuracy: 0.9863 - val_loss: 0.3912 - val_accuracy: 0.8759\n",
            "Epoch 11/20\n",
            "15000/15000 [==============================] - 1s 97us/step - loss: 0.0443 - accuracy: 0.9899 - val_loss: 0.4174 - val_accuracy: 0.8733\n",
            "Epoch 12/20\n",
            "15000/15000 [==============================] - 1s 97us/step - loss: 0.0358 - accuracy: 0.9920 - val_loss: 0.4504 - val_accuracy: 0.8714\n",
            "Epoch 13/20\n",
            "15000/15000 [==============================] - 1s 97us/step - loss: 0.0293 - accuracy: 0.9940 - val_loss: 0.5731 - val_accuracy: 0.8533\n",
            "Epoch 14/20\n",
            "15000/15000 [==============================] - 1s 98us/step - loss: 0.0250 - accuracy: 0.9949 - val_loss: 0.5089 - val_accuracy: 0.8708\n",
            "Epoch 15/20\n",
            "15000/15000 [==============================] - 1s 97us/step - loss: 0.0184 - accuracy: 0.9970 - val_loss: 0.5425 - val_accuracy: 0.8696\n",
            "Epoch 16/20\n",
            "15000/15000 [==============================] - 1s 97us/step - loss: 0.0159 - accuracy: 0.9975 - val_loss: 0.5787 - val_accuracy: 0.8667\n",
            "Epoch 17/20\n",
            "15000/15000 [==============================] - 1s 96us/step - loss: 0.0142 - accuracy: 0.9975 - val_loss: 0.6168 - val_accuracy: 0.8649\n",
            "Epoch 18/20\n",
            "15000/15000 [==============================] - 1s 96us/step - loss: 0.0072 - accuracy: 0.9995 - val_loss: 0.6481 - val_accuracy: 0.8647\n",
            "Epoch 19/20\n",
            "15000/15000 [==============================] - 1s 97us/step - loss: 0.0078 - accuracy: 0.9993 - val_loss: 0.6888 - val_accuracy: 0.8634\n",
            "Epoch 20/20\n",
            "15000/15000 [==============================] - 1s 96us/step - loss: 0.0061 - accuracy: 0.9994 - val_loss: 0.7193 - val_accuracy: 0.8640\n"
          ],
          "name": "stdout"
        }
      ]
    },
    {
      "cell_type": "code",
      "metadata": {
        "id": "fvnFGbIci9Wh",
        "colab_type": "code",
        "colab": {}
      },
      "source": [
        "history_dict = history.history"
      ],
      "execution_count": 20,
      "outputs": []
    },
    {
      "cell_type": "code",
      "metadata": {
        "id": "qN19TTKJjMwE",
        "colab_type": "code",
        "colab": {
          "base_uri": "https://localhost:8080/",
          "height": 34
        },
        "outputId": "791cfd83-efeb-45b8-8afb-07c0b6ee8a2f"
      },
      "source": [
        "history_dict.keys()"
      ],
      "execution_count": 22,
      "outputs": [
        {
          "output_type": "execute_result",
          "data": {
            "text/plain": [
              "dict_keys(['val_loss', 'val_accuracy', 'loss', 'accuracy'])"
            ]
          },
          "metadata": {
            "tags": []
          },
          "execution_count": 22
        }
      ]
    },
    {
      "cell_type": "markdown",
      "metadata": {
        "id": "X9miXxG7jWcF",
        "colab_type": "text"
      },
      "source": [
        "### Plot losses"
      ]
    },
    {
      "cell_type": "code",
      "metadata": {
        "id": "244RzYRJjSmm",
        "colab_type": "code",
        "colab": {
          "base_uri": "https://localhost:8080/",
          "height": 295
        },
        "outputId": "8d056352-3da8-420c-c551-add00d54c304"
      },
      "source": [
        "import matplotlib.pyplot as plt\n",
        "train_loss = history_dict['loss']\n",
        "val_loss = history_dict['val_loss']\n",
        "\n",
        "epochs = range(1,len(train_loss)+1)\n",
        "\n",
        "plt.plot(epochs,train_loss,'bo',label = 'training loss')\n",
        "plt.plot(epochs,val_loss,'b',label = 'valiadation loss')\n",
        "plt.xlabel('Epochs')\n",
        "plt.ylabel('Loss')\n",
        "\n",
        "plt.title('Training and Validation loss')\n",
        "plt.legend()\n",
        "plt.show()\n",
        "\n",
        "\n"
      ],
      "execution_count": 34,
      "outputs": [
        {
          "output_type": "display_data",
          "data": {
            "image/png": "[encoded data removed]",
            "text/plain": [
              "<Figure size 432x288 with 1 Axes>"
            ]
          },
          "metadata": {
            "tags": [],
            "needs_background": "light"
          }
        }
      ]
    },
    {
      "cell_type": "code",
      "metadata": {
        "id": "iyhSgseJoax3",
        "colab_type": "code",
        "colab": {
          "base_uri": "https://localhost:8080/",
          "height": 295
        },
        "outputId": "4317462b-205f-40ec-d047-7bd463e404e1"
      },
      "source": [
        "plt.clf()\n",
        "train_accuracy = history_dict['accuracy']\n",
        "val_acc = history_dict['val_accuracy']\n",
        "\n",
        "\n",
        "plt.plot(epochs,train_accuracy,'bo',label = 'training accuracy')\n",
        "plt.plot(epochs,val_acc,'b',label = 'valiadation accuracy')\n",
        "plt.xlabel('Epochs')\n",
        "plt.ylabel('Accuracy')\n",
        "\n",
        "plt.title('Training and Validation Accuracy')\n",
        "plt.legend()\n",
        "plt.show()"
      ],
      "execution_count": 35,
      "outputs": [
        {
          "output_type": "display_data",
          "data": {
            "image/png": "[encoded data removed]",
            "text/plain": [
              "<Figure size 432x288 with 1 Axes>"
            ]
          },
          "metadata": {
            "tags": [],
            "needs_background": "light"
          }
        }
      ]
    },
    {
      "cell_type": "code",
      "metadata": {
        "id": "JqRyiH1ypqJ7",
        "colab_type": "code",
        "colab": {
          "base_uri": "https://localhost:8080/",
          "height": 187
        },
        "outputId": "bba623a5-f36c-4e19-90a2-cba670cc328f"
      },
      "source": [
        "model.fit(x_partial_train,y_partial_train,epochs=4,batch_size =512,validation_data = (x_val,y_val))"
      ],
      "execution_count": 36,
      "outputs": [
        {
          "output_type": "stream",
          "text": [
            "Train on 15000 samples, validate on 10000 samples\n",
            "Epoch 1/4\n",
            "15000/15000 [==============================] - 5s 346us/step - loss: 0.0071 - accuracy: 0.9986 - val_loss: 0.7630 - val_accuracy: 0.8622\n",
            "Epoch 2/4\n",
            "15000/15000 [==============================] - 1s 97us/step - loss: 0.0024 - accuracy: 0.9999 - val_loss: 0.7899 - val_accuracy: 0.8609\n",
            "Epoch 3/4\n",
            "15000/15000 [==============================] - 1s 99us/step - loss: 0.0067 - accuracy: 0.9985 - val_loss: 0.8341 - val_accuracy: 0.8603\n",
            "Epoch 4/4\n",
            "15000/15000 [==============================] - 1s 98us/step - loss: 0.0014 - accuracy: 0.9999 - val_loss: 0.8611 - val_accuracy: 0.8604\n"
          ],
          "name": "stdout"
        },
        {
          "output_type": "execute_result",
          "data": {
            "text/plain": [
              "<keras.callbacks.callbacks.History at 0x7f18a22b7358>"
            ]
          },
          "metadata": {
            "tags": []
          },
          "execution_count": 36
        }
      ]
    },
    {
      "cell_type": "code",
      "metadata": {
        "id": "oCYdOufZp6KT",
        "colab_type": "code",
        "colab": {}
      },
      "source": [
        "### Experiments\n",
        "#a ) Adding 1 more hidden layer\n",
        "#b) more or less hidden units\n",
        "#c) mse\n",
        "#d) tanh \n",
        "\n"
      ],
      "execution_count": 38,
      "outputs": []
    },
    {
      "cell_type": "code",
      "metadata": {
        "id": "WTBMlPr2pxdq",
        "colab_type": "code",
        "colab": {}
      },
      "source": [
        ""
      ],
      "execution_count": null,
      "outputs": []
    }
  ]
}