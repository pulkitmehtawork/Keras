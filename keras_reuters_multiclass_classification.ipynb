{
  "nbformat": 4,
  "nbformat_minor": 0,
  "metadata": {
    "colab": {
      "name": "keras reuters multiclass classification.ipynb",
      "provenance": [],
      "authorship_tag": "ABX9TyMZbA4JnAkeh0SF8Z796SMv",
      "include_colab_link": true
    },
    "kernelspec": {
      "name": "python3",
      "display_name": "Python 3"
    }
  },
  "cells": [
    {
      "cell_type": "markdown",
      "metadata": {
        "id": "view-in-github",
        "colab_type": "text"
      },
      "source": [
        "<a href=\"https://colab.research.google.com/github/pulkitmehtawork/Keras/blob/master/keras_reuters_multiclass_classification.ipynb\" target=\"_parent\"><img src=\"https://colab.research.google.com/assets/colab-badge.svg\" alt=\"Open In Colab\"/></a>"
      ]
    },
    {
      "cell_type": "code",
      "metadata": {
        "id": "KZXu-OdjVU4o",
        "outputId": "cd9108dc-8af2-4c31-c9b0-5528c8f23e2d",
        "colab": {
          "base_uri": "https://localhost:8080/",
          "height": 51
        }
      },
      "source": [
        "# Loading the reuters dataset\n",
        "from keras.datasets import reuters\n",
        "(train_data,train_labels) , (test_data,test_labels) = reuters.load_data(num_words=10000)"
      ],
      "execution_count": 1,
      "outputs": [
        {
          "output_type": "stream",
          "text": [
            "Downloading data from https://storage.googleapis.com/tensorflow/tf-keras-datasets/reuters.npz\n",
            "2113536/2110848 [==============================] - 0s 0us/step\n"
          ],
          "name": "stdout"
        }
      ]
    },
    {
      "cell_type": "code",
      "metadata": {
        "id": "OEx2WIT9VnAC",
        "outputId": "6e650353-a678-4180-e44b-493942f21caa",
        "colab": {
          "base_uri": "https://localhost:8080/",
          "height": 54
        }
      },
      "source": [
        "# decoding newswires back to text\n",
        "word_index = reuters.get_word_index()\n",
        "reverse_word_index = dict([(value, key)for key,value in word_index.items()])\n",
        "decoded_newswire = \" \".join([reverse_word_index.get(i-3,'?') for i in train_data[0]])\n",
        "\n",
        "print(decoded_newswire)\n"
      ],
      "execution_count": 3,
      "outputs": [
        {
          "output_type": "stream",
          "text": [
            "? ? ? said as a result of its december acquisition of space co it expects earnings per share in 1987 of 1 15 to 1 30 dlrs per share up from 70 cts in 1986 the company said pretax net should rise to nine to 10 mln dlrs from six mln dlrs in 1986 and rental operation revenues to 19 to 22 mln dlrs from 12 5 mln dlrs it said cash flow per share this year should be 2 50 to three dlrs reuter 3\n"
          ],
          "name": "stdout"
        }
      ]
    },
    {
      "cell_type": "code",
      "metadata": {
        "id": "Q1NYWKdvVtB3"
      },
      "source": [
        "#encoding the data \n",
        "\n",
        "import numpy as np \n",
        "\n",
        "def vectorize_sequence(sequences , dimension =10000):\n",
        "\tresults = np.zeros((len(sequences) , dimension))\n",
        "\tfor i, seq in enumerate(sequences):\n",
        "\t\tresults[i,seq] = 1\n",
        "\t\t\n",
        "\treturn results\n",
        "\n",
        "X_train = vectorize_sequence(train_data)\n",
        "X_test = vectorize_sequence(test_data)\n",
        "\n",
        "\n",
        "from keras.utils import to_categorical\n",
        "\n",
        "y_train = to_categorical(train_labels)\n",
        "y_test= to_categorical(test_labels)\n",
        "\n"
      ],
      "execution_count": 7,
      "outputs": []
    },
    {
      "cell_type": "code",
      "metadata": {
        "id": "mtyKahpmWkh2"
      },
      "source": [
        "# Model definition\n",
        "from keras import models\n",
        "from keras import layers\n",
        "\n",
        "model = models.Sequential()\n",
        "\n",
        "model.add(layers.Dense(64,activation='relu',input_shape = (10000,)))\n",
        "model.add(layers.Dense(64,activation='relu'))\n",
        "model.add(layers.Dense(46,activation='softmax'))"
      ],
      "execution_count": 8,
      "outputs": []
    },
    {
      "cell_type": "code",
      "metadata": {
        "id": "ZSvEiYi7fz2t"
      },
      "source": [
        "\n",
        "# compiling model \n",
        "model.compile(optimizer ='rmsprop',\n",
        "\t\t\t  loss =  'categorical_crossentropy',\n",
        "\t\t\t  metrics = ['accuracy'])"
      ],
      "execution_count": 9,
      "outputs": []
    },
    {
      "cell_type": "code",
      "metadata": {
        "id": "yZt4e_PsgBxt"
      },
      "source": [
        "# setting aside  validation set \n",
        "x_val = X_train[:1000]\n",
        "x_partial_train = X_train[1000:]\n",
        "\n",
        "y_val = y_train[:1000]\n",
        "y_partial_train = y_train[1000:]"
      ],
      "execution_count": 10,
      "outputs": []
    },
    {
      "cell_type": "code",
      "metadata": {
        "id": "5z-TBdSrgc3B",
        "outputId": "464bfe54-b63c-4c8e-83a3-57d21b8e781e",
        "colab": {
          "base_uri": "https://localhost:8080/",
          "height": 697
        }
      },
      "source": [
        "# training the model \n",
        "\n",
        "\n",
        "history = model.fit(x_partial_train,\n",
        "\t\t\t\t\ty_partial_train,\n",
        "\t\t\t\t\tepochs = 20,\n",
        "\t\t\t\t\tbatch_size = 512,\n",
        "\t\t\t\t\tvalidation_data = (x_val,y_val))"
      ],
      "execution_count": 12,
      "outputs": [
        {
          "output_type": "stream",
          "text": [
            "Epoch 1/20\n",
            "16/16 [==============================] - 1s 53ms/step - loss: 2.6389 - accuracy: 0.5198 - val_loss: 1.7244 - val_accuracy: 0.6450\n",
            "Epoch 2/20\n",
            "16/16 [==============================] - 1s 45ms/step - loss: 1.4125 - accuracy: 0.7129 - val_loss: 1.2931 - val_accuracy: 0.7120\n",
            "Epoch 3/20\n",
            "16/16 [==============================] - 1s 43ms/step - loss: 1.0496 - accuracy: 0.7786 - val_loss: 1.1722 - val_accuracy: 0.7380\n",
            "Epoch 4/20\n",
            "16/16 [==============================] - 1s 43ms/step - loss: 0.8297 - accuracy: 0.8267 - val_loss: 1.0430 - val_accuracy: 0.7790\n",
            "Epoch 5/20\n",
            "16/16 [==============================] - 1s 43ms/step - loss: 0.6595 - accuracy: 0.8629 - val_loss: 0.9833 - val_accuracy: 0.7970\n",
            "Epoch 6/20\n",
            "16/16 [==============================] - 1s 44ms/step - loss: 0.5308 - accuracy: 0.8919 - val_loss: 0.9515 - val_accuracy: 0.8010\n",
            "Epoch 7/20\n",
            "16/16 [==============================] - 1s 43ms/step - loss: 0.4237 - accuracy: 0.9146 - val_loss: 0.9248 - val_accuracy: 0.7970\n",
            "Epoch 8/20\n",
            "16/16 [==============================] - 1s 43ms/step - loss: 0.3503 - accuracy: 0.9242 - val_loss: 0.8962 - val_accuracy: 0.8090\n",
            "Epoch 9/20\n",
            "16/16 [==============================] - 1s 43ms/step - loss: 0.2918 - accuracy: 0.9361 - val_loss: 0.8918 - val_accuracy: 0.8180\n",
            "Epoch 10/20\n",
            "16/16 [==============================] - 1s 44ms/step - loss: 0.2457 - accuracy: 0.9445 - val_loss: 0.9259 - val_accuracy: 0.8020\n",
            "Epoch 11/20\n",
            "16/16 [==============================] - 1s 43ms/step - loss: 0.2139 - accuracy: 0.9493 - val_loss: 0.9147 - val_accuracy: 0.8070\n",
            "Epoch 12/20\n",
            "16/16 [==============================] - 1s 45ms/step - loss: 0.1862 - accuracy: 0.9528 - val_loss: 0.9452 - val_accuracy: 0.8060\n",
            "Epoch 13/20\n",
            "16/16 [==============================] - 1s 44ms/step - loss: 0.1718 - accuracy: 0.9526 - val_loss: 0.9632 - val_accuracy: 0.7980\n",
            "Epoch 14/20\n",
            "16/16 [==============================] - 1s 43ms/step - loss: 0.1523 - accuracy: 0.9539 - val_loss: 0.9685 - val_accuracy: 0.7980\n",
            "Epoch 15/20\n",
            "16/16 [==============================] - 1s 43ms/step - loss: 0.1458 - accuracy: 0.9549 - val_loss: 0.9830 - val_accuracy: 0.8090\n",
            "Epoch 16/20\n",
            "16/16 [==============================] - 1s 43ms/step - loss: 0.1325 - accuracy: 0.9554 - val_loss: 1.0498 - val_accuracy: 0.7950\n",
            "Epoch 17/20\n",
            "16/16 [==============================] - 1s 44ms/step - loss: 0.1268 - accuracy: 0.9577 - val_loss: 1.0199 - val_accuracy: 0.8010\n",
            "Epoch 18/20\n",
            "16/16 [==============================] - 1s 43ms/step - loss: 0.1233 - accuracy: 0.9574 - val_loss: 1.0662 - val_accuracy: 0.8010\n",
            "Epoch 19/20\n",
            "16/16 [==============================] - 1s 43ms/step - loss: 0.1207 - accuracy: 0.9572 - val_loss: 1.0684 - val_accuracy: 0.7980\n",
            "Epoch 20/20\n",
            "16/16 [==============================] - 1s 43ms/step - loss: 0.1140 - accuracy: 0.9572 - val_loss: 1.0558 - val_accuracy: 0.8050\n"
          ],
          "name": "stdout"
        }
      ]
    },
    {
      "cell_type": "code",
      "metadata": {
        "id": "Gwo_ylsjgw6I",
        "outputId": "89214590-fcd6-4b6b-8b78-7e5ea84f5603",
        "colab": {
          "base_uri": "https://localhost:8080/",
          "height": 295
        }
      },
      "source": [
        "# plot training & validation losses\n",
        "\n",
        "import matplotlib.pyplot as plt\n",
        "%matplotlib inline \n",
        "\n",
        "history_dict = history.history\n",
        "\n",
        "loss = history_dict['loss']\n",
        "val_loss = history_dict['val_loss']\n",
        "\n",
        "epochs = range(1, len(history_dict['val_loss'])+1)\n",
        "\n",
        "plt.plot(epochs,loss, 'bo',label = 'Training Loss')\n",
        "plt.plot(epochs,val_loss, 'b',label = 'Validation Loss')\n",
        "\n",
        "plt.title('Training vs Validation loss')\n",
        "plt.xlabel('Epochs')\n",
        "plt.ylabel('Loss')\n",
        "\n",
        "plt.legend()\n",
        "plt.show()\n",
        "\n",
        "\n"
      ],
      "execution_count": 14,
      "outputs": [
        {
          "output_type": "display_data",
          "data": {
            "image/png": "[encoded data removed]",
            "text/plain": [
              "<Figure size 432x288 with 1 Axes>"
            ]
          },
          "metadata": {
            "tags": [],
            "needs_background": "light"
          }
        }
      ]
    },
    {
      "cell_type": "code",
      "metadata": {
        "id": "Bbs0eTxOiLSb",
        "outputId": "aca32559-286f-4bd1-aca8-70281beb1f07",
        "colab": {
          "base_uri": "https://localhost:8080/",
          "height": 295
        }
      },
      "source": [
        "# Training vs validation accuracy\n",
        "loss = history_dict['accuracy']\n",
        "val_loss = history_dict['val_accuracy']\n",
        "\n",
        "epochs = range(1, len(history_dict['val_loss'])+1)\n",
        "\n",
        "plt.plot(epochs,loss, 'bo',label = 'Training Accuracy')\n",
        "plt.plot(epochs,val_loss, 'b',label = 'Validation Accuracy')\n",
        "\n",
        "plt.title('Training vs Validation Accuracy')\n",
        "plt.xlabel('Epochs')\n",
        "plt.ylabel('Accuracy')\n",
        "\n",
        "plt.legend()\n",
        "plt.show()"
      ],
      "execution_count": 15,
      "outputs": [
        {
          "output_type": "display_data",
          "data": {
            "image/png": "[encoded data removed]",
            "text/plain": [
              "<Figure size 432x288 with 1 Axes>"
            ]
          },
          "metadata": {
            "tags": [],
            "needs_background": "light"
          }
        }
      ]
    },
    {
      "cell_type": "code",
      "metadata": {
        "id": "c0dYjDLyiigr"
      },
      "source": [
        ""
      ],
      "execution_count": null,
      "outputs": []
    }
  ]
}