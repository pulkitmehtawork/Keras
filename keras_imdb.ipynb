{
  "nbformat": 4,
  "nbformat_minor": 0,
  "metadata": {
    "colab": {
      "name": "keras imdb.ipynb",
      "provenance": [],
      "authorship_tag": "ABX9TyP8LT6VCGleHrKtpI9cw/N3",
      "include_colab_link": true
    },
    "kernelspec": {
      "name": "python3",
      "display_name": "Python 3"
    }
  },
  "cells": [
    {
      "cell_type": "markdown",
      "metadata": {
        "id": "view-in-github",
        "colab_type": "text"
      },
      "source": [
        "<a href=\"https://colab.research.google.com/github/pulkitmehtawork/Keras/blob/master/keras_imdb.ipynb\" target=\"_parent\"><img src=\"https://colab.research.google.com/assets/colab-badge.svg\" alt=\"Open In Colab\"/></a>"
      ]
    },
    {
      "cell_type": "code",
      "metadata": {
        "id": "t1slkstwfYrj",
        "outputId": "b4bcaf6f-8508-4475-ca59-df20ef53502d",
        "colab": {
          "base_uri": "https://localhost:8080/",
          "height": 51
        }
      },
      "source": [
        "from keras.datasets import imdb\n",
        "(train_data,train_labels) , (test_data,test_labels) = imdb.load_data(num_words=10000)"
      ],
      "execution_count": 1,
      "outputs": [
        {
          "output_type": "stream",
          "text": [
            "Downloading data from https://storage.googleapis.com/tensorflow/tf-keras-datasets/imdb.npz\n",
            "17465344/17464789 [==============================] - 0s 0us/step\n"
          ],
          "name": "stdout"
        }
      ]
    },
    {
      "cell_type": "code",
      "metadata": {
        "id": "_ktk5TxlmcSB",
        "outputId": "13528837-1b56-498f-ffd3-83b9a4178610",
        "colab": {
          "base_uri": "https://localhost:8080/",
          "height": 34
        }
      },
      "source": [
        "train_labels[0]"
      ],
      "execution_count": 2,
      "outputs": [
        {
          "output_type": "execute_result",
          "data": {
            "text/plain": [
              "1"
            ]
          },
          "metadata": {
            "tags": []
          },
          "execution_count": 2
        }
      ]
    },
    {
      "cell_type": "code",
      "metadata": {
        "id": "NVhgMy2imlQ6",
        "outputId": "25014882-5db5-4884-bcca-ee367cd83b95",
        "colab": {
          "base_uri": "https://localhost:8080/",
          "height": 51
        }
      },
      "source": [
        "word_index = imdb.get_word_index()"
      ],
      "execution_count": 3,
      "outputs": [
        {
          "output_type": "stream",
          "text": [
            "Downloading data from https://storage.googleapis.com/tensorflow/tf-keras-datasets/imdb_word_index.json\n",
            "1646592/1641221 [==============================] - 0s 0us/step\n"
          ],
          "name": "stdout"
        }
      ]
    },
    {
      "cell_type": "code",
      "metadata": {
        "id": "3HpBPIR9sDkb",
        "outputId": "4c655090-6a58-459c-ff59-97471e477da1",
        "colab": {
          "base_uri": "https://localhost:8080/",
          "height": 34
        }
      },
      "source": [
        "len(word_index)"
      ],
      "execution_count": 4,
      "outputs": [
        {
          "output_type": "execute_result",
          "data": {
            "text/plain": [
              "88584"
            ]
          },
          "metadata": {
            "tags": []
          },
          "execution_count": 4
        }
      ]
    },
    {
      "cell_type": "code",
      "metadata": {
        "id": "nHS9X0ScsGkb"
      },
      "source": [
        "index_word = dict([  (value,key)  for (key,value) in word_index.items() ])"
      ],
      "execution_count": 5,
      "outputs": []
    },
    {
      "cell_type": "code",
      "metadata": {
        "id": "qxrgkwcYsrTc",
        "outputId": "254e02f0-c91f-4cf5-a757-79e47767df08",
        "colab": {
          "base_uri": "https://localhost:8080/",
          "height": 137
        }
      },
      "source": [
        "' '.join([index_word.get(i-3,'?') for i in train_data[0]])"
      ],
      "execution_count": 6,
      "outputs": [
        {
          "output_type": "execute_result",
          "data": {
            "application/vnd.google.colaboratory.intrinsic+json": {
              "type": "string"
            },
            "text/plain": [
              "\"? this film was just brilliant casting location scenery story direction everyone's really suited the part they played and you could just imagine being there robert ? is an amazing actor and now the same being director ? father came from the same scottish island as myself so i loved the fact there was a real connection with this film the witty remarks throughout the film were great it was just brilliant so much that i bought the film as soon as it was released for ? and would recommend it to everyone to watch and the fly fishing was amazing really cried at the end it was so sad and you know what they say if you cry at a film it must have been good and this definitely was also ? to the two little boy's that played the ? of norman and paul they were just brilliant children are often left out of the ? list i think because the stars that play them all grown up are such a big profile for the whole film but these children are amazing and should be praised for what they have done don't you think the whole story was so lovely because it was true and was someone's life after all that was shared with us all\""
            ]
          },
          "metadata": {
            "tags": []
          },
          "execution_count": 6
        }
      ]
    },
    {
      "cell_type": "code",
      "metadata": {
        "id": "0KgUHpKbtHhV"
      },
      "source": [
        "a = dict({'a':0,\n",
        "          'b':1})"
      ],
      "execution_count": 7,
      "outputs": []
    },
    {
      "cell_type": "code",
      "metadata": {
        "id": "EbKtAGSCwHnj",
        "outputId": "4321df61-6a39-4f49-d8f7-417eaf65f200",
        "colab": {
          "base_uri": "https://localhost:8080/",
          "height": 34
        }
      },
      "source": [
        "a['a']"
      ],
      "execution_count": 8,
      "outputs": [
        {
          "output_type": "execute_result",
          "data": {
            "text/plain": [
              "0"
            ]
          },
          "metadata": {
            "tags": []
          },
          "execution_count": 8
        }
      ]
    },
    {
      "cell_type": "code",
      "metadata": {
        "id": "J-42_dvewIdR",
        "outputId": "1a3b9dc1-993f-4409-f1ae-ba4134be17dd",
        "colab": {
          "base_uri": "https://localhost:8080/",
          "height": 35
        }
      },
      "source": [
        "a.get('abn','c')"
      ],
      "execution_count": 9,
      "outputs": [
        {
          "output_type": "execute_result",
          "data": {
            "application/vnd.google.colaboratory.intrinsic+json": {
              "type": "string"
            },
            "text/plain": [
              "'c'"
            ]
          },
          "metadata": {
            "tags": []
          },
          "execution_count": 9
        }
      ]
    },
    {
      "cell_type": "code",
      "metadata": {
        "id": "ghyFusOWwL26"
      },
      "source": [
        "# encoding integer sequence into binary matrix \n",
        "import numpy as np \n",
        "\n",
        "def vectorize_sequences(sequences, dimensions = 10000):\n",
        "  results = np.zeros((len(sequences),dimensions))\n",
        "  for i, seq  in enumerate(sequences):\n",
        "    results[i,seq] = 1\n",
        "  return results\n",
        "\n",
        "X_train = vectorize_sequences(train_data)\n",
        "X_test= vectorize_sequences(test_data)\n"
      ],
      "execution_count": 10,
      "outputs": []
    },
    {
      "cell_type": "code",
      "metadata": {
        "id": "WGTcrMmPyu8l"
      },
      "source": [
        "y_train = np.asarray(train_labels).astype('float32')\n",
        "y_test = np.asarray(test_labels).astype('float32')"
      ],
      "execution_count": 11,
      "outputs": []
    },
    {
      "cell_type": "code",
      "metadata": {
        "id": "pXdRgu16zKwa"
      },
      "source": [
        "# model definition\n",
        "\n",
        "from keras import models \n",
        "from keras import layers\n",
        "model = models.Sequential()\n",
        "\n",
        "model.add(layers.Dense(16,activation='relu',input_shape=(10000,)))\n",
        "model.add(layers.Dense(16,activation='relu'))\n",
        "model.add(layers.Dense(1,activation='sigmoid'))\n"
      ],
      "execution_count": 14,
      "outputs": []
    },
    {
      "cell_type": "code",
      "metadata": {
        "id": "VNGmsJSke9sT"
      },
      "source": [
        "from keras import optimizers\n",
        "from keras import losses\n",
        "from keras import metrics\n",
        "\n",
        "model.compile(optimizer = optimizers.RMSprop(lr=0.001),\n",
        "              loss = losses.binary_crossentropy,\n",
        "              metrics = ['acc']\n",
        "              )"
      ],
      "execution_count": 21,
      "outputs": []
    },
    {
      "cell_type": "code",
      "metadata": {
        "id": "rZPNB6R1gNQS"
      },
      "source": [
        "X_val = X_train[:10000]\n",
        "partial_x_train = X_train[10000:]\n",
        "y_val = y_train[:10000]\n",
        "partial_y_train = y_train[10000:]"
      ],
      "execution_count": 22,
      "outputs": []
    },
    {
      "cell_type": "code",
      "metadata": {
        "id": "Z3uqwlMNglLv",
        "outputId": "535efcaf-bd3f-405a-aa6d-5129baa915e2",
        "colab": {
          "base_uri": "https://localhost:8080/",
          "height": 697
        }
      },
      "source": [
        "history = model.fit(partial_x_train,\n",
        "                    partial_y_train,\n",
        "                    epochs=20,\n",
        "                    batch_size = 512,\n",
        "                    validation_data = (X_val,y_val)                   \n",
        "                    )"
      ],
      "execution_count": 23,
      "outputs": [
        {
          "output_type": "stream",
          "text": [
            "Epoch 1/20\n",
            "30/30 [==============================] - 1s 40ms/step - loss: 0.0126 - acc: 0.9967 - val_loss: 0.7638 - val_acc: 0.8672\n",
            "Epoch 2/20\n",
            "30/30 [==============================] - 1s 33ms/step - loss: 0.0015 - acc: 0.9999 - val_loss: 0.7863 - val_acc: 0.8656\n",
            "Epoch 3/20\n",
            "30/30 [==============================] - 1s 33ms/step - loss: 0.0038 - acc: 0.9989 - val_loss: 0.8299 - val_acc: 0.8669\n",
            "Epoch 4/20\n",
            "30/30 [==============================] - 1s 33ms/step - loss: 7.6109e-04 - acc: 1.0000 - val_loss: 0.8525 - val_acc: 0.8664\n",
            "Epoch 5/20\n",
            "30/30 [==============================] - 1s 33ms/step - loss: 6.4042e-04 - acc: 1.0000 - val_loss: 1.0490 - val_acc: 0.8473\n",
            "Epoch 6/20\n",
            "30/30 [==============================] - 1s 32ms/step - loss: 0.0011 - acc: 0.9999 - val_loss: 0.9201 - val_acc: 0.8647\n",
            "Epoch 7/20\n",
            "30/30 [==============================] - 1s 32ms/step - loss: 0.0043 - acc: 0.9987 - val_loss: 1.0459 - val_acc: 0.8556\n",
            "Epoch 8/20\n",
            "30/30 [==============================] - 1s 32ms/step - loss: 3.8886e-04 - acc: 0.9999 - val_loss: 0.9842 - val_acc: 0.8648\n",
            "Epoch 9/20\n",
            "30/30 [==============================] - 1s 32ms/step - loss: 2.1463e-04 - acc: 1.0000 - val_loss: 1.0044 - val_acc: 0.8642\n",
            "Epoch 10/20\n",
            "30/30 [==============================] - 1s 32ms/step - loss: 1.7053e-04 - acc: 1.0000 - val_loss: 1.0486 - val_acc: 0.8629\n",
            "Epoch 11/20\n",
            "30/30 [==============================] - 1s 33ms/step - loss: 0.0048 - acc: 0.9989 - val_loss: 1.1082 - val_acc: 0.8611\n",
            "Epoch 12/20\n",
            "30/30 [==============================] - 1s 33ms/step - loss: 1.2234e-04 - acc: 1.0000 - val_loss: 1.1117 - val_acc: 0.8625\n",
            "Epoch 13/20\n",
            "30/30 [==============================] - 1s 34ms/step - loss: 8.3744e-05 - acc: 1.0000 - val_loss: 1.1259 - val_acc: 0.8618\n",
            "Epoch 14/20\n",
            "30/30 [==============================] - 1s 33ms/step - loss: 6.7001e-05 - acc: 1.0000 - val_loss: 1.1645 - val_acc: 0.8613\n",
            "Epoch 15/20\n",
            "30/30 [==============================] - 1s 33ms/step - loss: 0.0046 - acc: 0.9987 - val_loss: 1.2049 - val_acc: 0.8618\n",
            "Epoch 16/20\n",
            "30/30 [==============================] - 1s 33ms/step - loss: 3.8529e-05 - acc: 1.0000 - val_loss: 1.2158 - val_acc: 0.8623\n",
            "Epoch 17/20\n",
            "30/30 [==============================] - 1s 32ms/step - loss: 3.3954e-05 - acc: 1.0000 - val_loss: 1.2323 - val_acc: 0.8610\n",
            "Epoch 18/20\n",
            "30/30 [==============================] - 1s 32ms/step - loss: 2.9396e-05 - acc: 1.0000 - val_loss: 1.2559 - val_acc: 0.8602\n",
            "Epoch 19/20\n",
            "30/30 [==============================] - 1s 34ms/step - loss: 2.2187e-05 - acc: 1.0000 - val_loss: 1.3208 - val_acc: 0.8596\n",
            "Epoch 20/20\n",
            "30/30 [==============================] - 1s 32ms/step - loss: 0.0035 - acc: 0.9990 - val_loss: 1.3708 - val_acc: 0.8619\n"
          ],
          "name": "stdout"
        }
      ]
    },
    {
      "cell_type": "code",
      "metadata": {
        "id": "2BJepWyxg8ks",
        "outputId": "d4d8885b-5f81-4b3d-ee59-34b63b3dc1d4",
        "colab": {
          "base_uri": "https://localhost:8080/",
          "height": 34
        }
      },
      "source": [
        "history_dict = history.history\n",
        "history_dict.keys()"
      ],
      "execution_count": 20,
      "outputs": [
        {
          "output_type": "execute_result",
          "data": {
            "text/plain": [
              "dict_keys(['loss', 'accuracy', 'val_loss', 'val_accuracy'])"
            ]
          },
          "metadata": {
            "tags": []
          },
          "execution_count": 20
        }
      ]
    },
    {
      "cell_type": "code",
      "metadata": {
        "id": "JOE7DCNJhbeI",
        "outputId": "9a233027-1ede-464b-df55-84e68aac965d",
        "colab": {
          "base_uri": "https://localhost:8080/",
          "height": 295
        }
      },
      "source": [
        "import matplotlib.pyplot as plt\n",
        "\n",
        "loss_values = history_dict['loss']\n",
        "val_loss_values = history_dict['val_loss']\n",
        "\n",
        "epochs = range(1, len(history_dict['accuracy']) +1)\n",
        "\n",
        "plt.plot(epochs,loss_values,'bo', label = 'Training Loss')\n",
        "plt.plot(epochs,val_loss_values,'b', label = 'Validation Loss')\n",
        "\n",
        "plt.title('Training & Validation loss')\n",
        "plt.xlabel('Epochs')\n",
        "plt.ylabel('Loss')\n",
        "plt.show()\n",
        "\n",
        "\n"
      ],
      "execution_count": 30,
      "outputs": [
        {
          "output_type": "display_data",
          "data": {
            "image/png": "[encoded data removed]",
            "text/plain": [
              "<Figure size 432x288 with 1 Axes>"
            ]
          },
          "metadata": {
            "tags": [],
            "needs_background": "light"
          }
        }
      ]
    },
    {
      "cell_type": "code",
      "metadata": {
        "id": "gT9D4O--siWu",
        "outputId": "aa0f1735-3abb-49f4-a987-5b0a7bd78e17",
        "colab": {
          "base_uri": "https://localhost:8080/",
          "height": 295
        }
      },
      "source": [
        "acc_values = history_dict['accuracy']\n",
        "val_acc_values = history_dict['val_accuracy']\n",
        "\n",
        "epochs = range(1, len(history_dict['accuracy']) +1)\n",
        "\n",
        "plt.plot(epochs,acc_values,'bo', label = 'Training Accuracy')\n",
        "plt.plot(epochs,val_acc_values,'b', label = 'Validation Accuracy')\n",
        "\n",
        "plt.title('Training & Validation Accuracy')\n",
        "plt.xlabel('Epochs')\n",
        "plt.ylabel('Accuracy')\n",
        "plt.show()"
      ],
      "execution_count": 31,
      "outputs": [
        {
          "output_type": "display_data",
          "data": {
            "image/png": "[encoded data removed]",
            "text/plain": [
              "<Figure size 432x288 with 1 Axes>"
            ]
          },
          "metadata": {
            "tags": [],
            "needs_background": "light"
          }
        }
      ]
    },
    {
      "cell_type": "code",
      "metadata": {
        "id": "cosxDR-Rs--o"
      },
      "source": [
        ""
      ],
      "execution_count": null,
      "outputs": []
    }
  ]
}